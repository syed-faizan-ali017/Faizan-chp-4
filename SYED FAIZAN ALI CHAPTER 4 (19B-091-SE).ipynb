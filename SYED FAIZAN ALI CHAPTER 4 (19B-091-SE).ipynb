{
 "cells": [
  {
   "cell_type": "markdown",
   "metadata": {},
   "source": [
    "# CHAPTER 4: PRACTICE PROBLEMS "
   ]
  },
  {
   "cell_type": "markdown",
   "metadata": {},
   "source": [
    "# PRACTICE PROBLEM 4.1:"
   ]
  },
  {
   "cell_type": "markdown",
   "metadata": {},
   "source": [
    "# PART(a)"
   ]
  },
  {
   "cell_type": "code",
   "execution_count": 2,
   "metadata": {},
   "outputs": [
    {
     "name": "stdout",
     "output_type": "stream",
     "text": [
      "234\n"
     ]
    }
   ],
   "source": [
    "s= '0123456789'\n",
    "print(s[2:5])\n"
   ]
  },
  {
   "cell_type": "markdown",
   "metadata": {},
   "source": [
    "# part (b):"
   ]
  },
  {
   "cell_type": "code",
   "execution_count": 3,
   "metadata": {},
   "outputs": [
    {
     "name": "stdout",
     "output_type": "stream",
     "text": [
      "78\n"
     ]
    }
   ],
   "source": [
    "s= '0123456789'\n",
    "print(s[7:9])"
   ]
  },
  {
   "cell_type": "markdown",
   "metadata": {},
   "source": [
    "# part(c):"
   ]
  },
  {
   "cell_type": "code",
   "execution_count": 4,
   "metadata": {},
   "outputs": [
    {
     "name": "stdout",
     "output_type": "stream",
     "text": [
      "1234567\n"
     ]
    }
   ],
   "source": [
    "s= '0123456789'\n",
    "print(s[1:8])\n"
   ]
  },
  {
   "cell_type": "markdown",
   "metadata": {},
   "source": [
    "# part (d):"
   ]
  },
  {
   "cell_type": "code",
   "execution_count": 5,
   "metadata": {},
   "outputs": [
    {
     "name": "stdout",
     "output_type": "stream",
     "text": [
      "0123\n"
     ]
    }
   ],
   "source": [
    "s= '0123456789'\n",
    "print(s[:4])"
   ]
  },
  {
   "cell_type": "markdown",
   "metadata": {},
   "source": [
    "# part (e):"
   ]
  },
  {
   "cell_type": "code",
   "execution_count": 6,
   "metadata": {},
   "outputs": [
    {
     "name": "stdout",
     "output_type": "stream",
     "text": [
      "789\n"
     ]
    }
   ],
   "source": [
    "s= '0123456789'\n",
    "print(s[7:])\n"
   ]
  },
  {
   "cell_type": "markdown",
   "metadata": {},
   "source": [
    "# part(f):"
   ]
  },
  {
   "cell_type": "code",
   "execution_count": 7,
   "metadata": {},
   "outputs": [
    {
     "name": "stdout",
     "output_type": "stream",
     "text": [
      "789\n"
     ]
    }
   ],
   "source": [
    "s= '0123456789'\n",
    "print(s[-3:])"
   ]
  },
  {
   "cell_type": "markdown",
   "metadata": {},
   "source": [
    "# PRACTICE PROBLEM 4.2:"
   ]
  },
  {
   "cell_type": "markdown",
   "metadata": {},
   "source": [
    "# PART (a);"
   ]
  },
  {
   "cell_type": "code",
   "execution_count": 9,
   "metadata": {},
   "outputs": [
    {
     "name": "stdout",
     "output_type": "stream",
     "text": [
      "2\n"
     ]
    }
   ],
   "source": [
    "forecast = 'It will be a sunny day today'\n",
    "count = forecast.count('day')\n",
    "print(count)"
   ]
  },
  {
   "cell_type": "markdown",
   "metadata": {},
   "source": [
    "# PART (b):"
   ]
  },
  {
   "cell_type": "code",
   "execution_count": 10,
   "metadata": {},
   "outputs": [
    {
     "name": "stdout",
     "output_type": "stream",
     "text": [
      "13\n"
     ]
    }
   ],
   "source": [
    "forecast='It will be a sunny day today'\n",
    "weather = forecast.find('sunny')\n",
    "print(weather)"
   ]
  },
  {
   "cell_type": "markdown",
   "metadata": {},
   "source": [
    "# PART (c)"
   ]
  },
  {
   "cell_type": "code",
   "execution_count": 12,
   "metadata": {},
   "outputs": [
    {
     "name": "stdout",
     "output_type": "stream",
     "text": [
      "It will be a cloudy day today\n"
     ]
    }
   ],
   "source": [
    "forecast='It will be a sunny day today'\n",
    "change = forecast.replace('sunny','cloudy')\n",
    "print(change)"
   ]
  },
  {
   "cell_type": "markdown",
   "metadata": {},
   "source": [
    "# PRACTICE PROBLEM 4.3:"
   ]
  },
  {
   "cell_type": "code",
   "execution_count": 13,
   "metadata": {},
   "outputs": [
    {
     "name": "stdout",
     "output_type": "stream",
     "text": [
      "Smith   John   Paul\n"
     ]
    }
   ],
   "source": [
    "last='Smith'\n",
    "first='John'\n",
    "middle='Paul'\n",
    "print(last,first,middle,sep='   ')"
   ]
  },
  {
   "cell_type": "markdown",
   "metadata": {},
   "source": [
    "# PRACTICE PROBLEM 4.4:"
   ]
  },
  {
   "cell_type": "code",
   "execution_count": 19,
   "metadata": {},
   "outputs": [
    {
     "name": "stdout",
     "output_type": "stream",
     "text": [
      "2"
     ]
    }
   ],
   "source": [
    "def even(n):\n",
    "    for i in range(2, n+1):\n",
    "        if i%2 == 0 or i%3 == 0:\n",
    "            print(i, end='')\n",
    "even(2)    "
   ]
  },
  {
   "cell_type": "markdown",
   "metadata": {},
   "source": [
    "# PRACTICE PROBLEM 4.5:"
   ]
  },
  {
   "cell_type": "code",
   "execution_count": 20,
   "metadata": {},
   "outputs": [
    {
     "name": "stdout",
     "output_type": "stream",
     "text": [
      "John Doe\n",
      "123 Main Street\n",
      "Anycity \n",
      "AS 09876\n"
     ]
    }
   ],
   "source": [
    "first='John'\n",
    "last='Doe'\n",
    "street='Main Street'\n",
    "number='123'\n",
    "city='Anycity'\n",
    "state='AS'\n",
    "zipcode='09876'\n",
    "var='{} {}\\n{} {}\\n{} \\n{} {}'\n",
    "print(var.format(first,last,number,street,city,state,zipcode))"
   ]
  },
  {
   "cell_type": "markdown",
   "metadata": {},
   "source": [
    "# PRACTICE PROBLEM 4.6:"
   ]
  },
  {
   "cell_type": "code",
   "execution_count": 21,
   "metadata": {},
   "outputs": [
    {
     "name": "stdout",
     "output_type": "stream",
     "text": [
      "Last     First      Class      Average Grade\n",
      "DeMoines  Jim       Sophomore     3.45\n",
      "Pierre    Sophie    Sophomore     4.00\n",
      "Columbus  Maria     Senior        2.50\n",
      "Phoenix   River     Junious       2.45\n",
      "Olympis   Edgar     Junious       3.99\n"
     ]
    }
   ],
   "source": [
    "students=[]\n",
    "students.append(['DeMoines','Jim','Sophomore',3.45])\n",
    "students.append(['Pierre','Sophie','Sophomore',4.0])\n",
    "students.append(['Columbus','Maria','Senior',2.5])\n",
    "students.append(['Phoenix','River','Junious',2.45])\n",
    "students.append(['Olympis','Edgar','Junious',3.99])\n",
    "def roaster(students):\n",
    "    print('Last     First      Class      Average Grade')\n",
    "    for i in students:\n",
    "        print('{:10}{:10}{:10}{:8.2f}'.format(i[0],i[1],i[2],i[3]))\n",
    "roaster(students)"
   ]
  },
  {
   "cell_type": "markdown",
   "metadata": {},
   "source": [
    "# PRACTICE PROBLEM 4.7:"
   ]
  },
  {
   "cell_type": "markdown",
   "metadata": {},
   "source": [
    "# PART (a)"
   ]
  },
  {
   "cell_type": "code",
   "execution_count": 22,
   "metadata": {},
   "outputs": [
    {
     "data": {
      "text/plain": [
       "'Friday, December 06 2019'"
      ]
     },
     "execution_count": 22,
     "metadata": {},
     "output_type": "execute_result"
    }
   ],
   "source": [
    "import time\n",
    "t=time.localtime(1500000000)\n",
    "def strftime(x):\n",
    "    print('%A, %B %d %Y',t)\n",
    "time.strftime('%A, %B %d %Y',time.localtime())"
   ]
  },
  {
   "cell_type": "markdown",
   "metadata": {},
   "source": [
    "# PART (b):"
   ]
  },
  {
   "cell_type": "code",
   "execution_count": 23,
   "metadata": {},
   "outputs": [
    {
     "data": {
      "text/plain": [
       "'08:48 PM Pakistan Standard Time on Fri/December/06'"
      ]
     },
     "execution_count": 23,
     "metadata": {},
     "output_type": "execute_result"
    }
   ],
   "source": [
    "import time\n",
    "t=time.localtime(1500000000)\n",
    "def strftime(x):\n",
    "    print('%I:%M %p %Z on %a/%B/%d',t)\n",
    "time.strftime('%I:%M %p %Z on %a/%B/%d',time.localtime())"
   ]
  },
  {
   "cell_type": "markdown",
   "metadata": {},
   "source": [
    "# PART (C)"
   ]
  },
  {
   "cell_type": "code",
   "execution_count": 24,
   "metadata": {},
   "outputs": [
    {
     "data": {
      "text/plain": [
       "'I will meet you on Fri December at 08:49 PM'"
      ]
     },
     "execution_count": 24,
     "metadata": {},
     "output_type": "execute_result"
    }
   ],
   "source": [
    "import time\n",
    "t=time.localtime(1500000000)\n",
    "def strftime(x):\n",
    "    print('I will meet you on %a %B at %I:%M %p',t)\n",
    "time.strftime('I will meet you on %a %B at %I:%M %p',time.localtime())"
   ]
  },
  {
   "cell_type": "markdown",
   "metadata": {},
   "source": [
    "# PRACTICE PROBLEM 4.11:"
   ]
  },
  {
   "cell_type": "markdown",
   "metadata": {},
   "source": [
    "# PART (a):"
   ]
  },
  {
   "cell_type": "code",
   "execution_count": 30,
   "metadata": {},
   "outputs": [
    {
     "name": "stdout",
     "output_type": "stream",
     "text": [
      "4/0 \n",
      "It is not possible beacuse the error is maths error in which non zero number cant devide by zer0\n"
     ]
    }
   ],
   "source": [
    "print('4/0 ')\n",
    "print('It is not possible beacuse the error is maths error in which non zero number cant devide by zer0')"
   ]
  },
  {
   "cell_type": "markdown",
   "metadata": {},
   "source": [
    "# PART (b):"
   ]
  },
  {
   "cell_type": "code",
   "execution_count": 31,
   "metadata": {},
   "outputs": [
    {
     "name": "stdout",
     "output_type": "stream",
     "text": [
      "lst[14,15,16]\n",
      "lst[3]\n",
      "The error occurs beacuse index 3 is not possible in lst its maximum index will be 2..\n"
     ]
    }
   ],
   "source": [
    "print('lst[14,15,16]')\n",
    "print('lst[3]')\n",
    "print('The error occurs beacuse index 3 is not possible in lst its maximum index will be 2..')"
   ]
  },
  {
   "cell_type": "markdown",
   "metadata": {},
   "source": [
    "# PART(c):"
   ]
  },
  {
   "cell_type": "code",
   "execution_count": 32,
   "metadata": {},
   "outputs": [
    {
     "name": "stdout",
     "output_type": "stream",
     "text": [
      "x+5\n",
      "The error comes beacuse we have not given or defined the value of x\n"
     ]
    }
   ],
   "source": [
    "print('x+5')\n",
    "print('The error comes beacuse we have not given or defined the value of x')"
   ]
  },
  {
   "cell_type": "markdown",
   "metadata": {},
   "source": [
    "# part (d):"
   ]
  },
  {
   "cell_type": "code",
   "execution_count": 33,
   "metadata": {},
   "outputs": [
    {
     "name": "stdout",
     "output_type": "stream",
     "text": [
      "'2'*'3'\n",
      "The error ocuurs because we dont write 2 and 3 in int sequence we use this tells us that sequence cant be multiplied\n"
     ]
    }
   ],
   "source": [
    "print(\"'2'*'3'\")\n",
    "print('The error ocuurs because we dont write 2 and 3 in int sequence we use'' this tells us that sequence cant be multiplied')"
   ]
  },
  {
   "cell_type": "markdown",
   "metadata": {},
   "source": [
    "# PART (e):"
   ]
  },
  {
   "cell_type": "code",
   "execution_count": 34,
   "metadata": {},
   "outputs": [
    {
     "name": "stdout",
     "output_type": "stream",
     "text": [
      "int('4.5')\n",
      "The reason for this error is that we use int function instead of using float\n"
     ]
    }
   ],
   "source": [
    "print(\"int('4.5')\")\n",
    "print('The reason for this error is that we use int function instead of using float')"
   ]
  },
  {
   "cell_type": "markdown",
   "metadata": {},
   "source": [
    "# CHAPTER 4: EXERCISES"
   ]
  },
  {
   "cell_type": "markdown",
   "metadata": {},
   "source": [
    "# PROBLEM 4.12:"
   ]
  },
  {
   "cell_type": "markdown",
   "metadata": {},
   "source": [
    "# part (a)"
   ]
  },
  {
   "cell_type": "code",
   "execution_count": 39,
   "metadata": {},
   "outputs": [
    {
     "name": "stdout",
     "output_type": "stream",
     "text": [
      "bcd\n"
     ]
    }
   ],
   "source": [
    "s = 'abcdefghijklmnopqrstuvwxyz'\n",
    "x=s[1:4]\n",
    "print(x)"
   ]
  },
  {
   "cell_type": "markdown",
   "metadata": {},
   "source": [
    "# part(b):"
   ]
  },
  {
   "cell_type": "code",
   "execution_count": 37,
   "metadata": {},
   "outputs": [
    {
     "name": "stdout",
     "output_type": "stream",
     "text": [
      "abc\n"
     ]
    }
   ],
   "source": [
    "s = 'abcdefghijklmnopqrstuvwxyz'\n",
    "x = s[:3]\n",
    "print(x)"
   ]
  },
  {
   "cell_type": "code",
   "execution_count": 38,
   "metadata": {},
   "outputs": [
    {
     "name": "stdout",
     "output_type": "stream",
     "text": [
      "defghijklmnopqrstuvwx\n"
     ]
    }
   ],
   "source": [
    "s = 'abcdefghijklmnopqrstuvwxyz'\n",
    "x = s[3:24]\n",
    "print(x)"
   ]
  },
  {
   "cell_type": "code",
   "execution_count": 1,
   "metadata": {},
   "outputs": [
    {
     "name": "stdout",
     "output_type": "stream",
     "text": [
      "wxy\n"
     ]
    }
   ],
   "source": [
    "s='abcdefghijklmnopqrstuvwxyz'\n",
    "x=s[22:25]\n",
    "print(x)\n"
   ]
  },
  {
   "cell_type": "code",
   "execution_count": 2,
   "metadata": {},
   "outputs": [
    {
     "name": "stdout",
     "output_type": "stream",
     "text": [
      "wxyz\n"
     ]
    }
   ],
   "source": [
    "s='abcdefghijklmnopqrstuvwxyz'\n",
    "x=s[22:26]\n",
    "print(x)"
   ]
  },
  {
   "cell_type": "markdown",
   "metadata": {},
   "source": [
    "# PROBLEM 4.13:"
   ]
  },
  {
   "cell_type": "markdown",
   "metadata": {},
   "source": [
    "# PART (a):"
   ]
  },
  {
   "cell_type": "code",
   "execution_count": 3,
   "metadata": {},
   "outputs": [
    {
     "name": "stdout",
     "output_type": "stream",
     "text": [
      "wxyz\n"
     ]
    }
   ],
   "source": [
    "s='abcdefghijklmnopqrstuvwxyz'\n",
    "x=s[22:26]\n",
    "print(x)"
   ]
  },
  {
   "cell_type": "markdown",
   "metadata": {},
   "source": [
    "# PART (b):"
   ]
  },
  {
   "cell_type": "code",
   "execution_count": 4,
   "metadata": {},
   "outputs": [
    {
     "name": "stdout",
     "output_type": "stream",
     "text": [
      "abcdefghijklmn\n"
     ]
    }
   ],
   "source": [
    "s='abcdefghijklmnopqrstuvwxyz'\n",
    "x=s[:14]\n",
    "print(x)"
   ]
  },
  {
   "cell_type": "markdown",
   "metadata": {},
   "source": [
    "# PART(c):"
   ]
  },
  {
   "cell_type": "code",
   "execution_count": 7,
   "metadata": {},
   "outputs": [
    {
     "name": "stdout",
     "output_type": "stream",
     "text": [
      "opqrstuvwxyz\n"
     ]
    }
   ],
   "source": [
    "s='abcdefghijklmnopqrstuvwxyz'\n",
    "x=s[14:26]\n",
    "print(x)"
   ]
  },
  {
   "cell_type": "markdown",
   "metadata": {},
   "source": [
    "# PART(d)"
   ]
  },
  {
   "cell_type": "code",
   "execution_count": 6,
   "metadata": {},
   "outputs": [
    {
     "name": "stdout",
     "output_type": "stream",
     "text": [
      "bcdefghijklmnopqrstuvw\n"
     ]
    }
   ],
   "source": [
    "s='abcdefghijklmnopqrstuvwxyz'\n",
    "x=s[1:23]\n",
    "print(x)"
   ]
  },
  {
   "cell_type": "markdown",
   "metadata": {},
   "source": [
    "# PROBLEM 4.15:"
   ]
  },
  {
   "cell_type": "markdown",
   "metadata": {},
   "source": [
    "# PART(a):"
   ]
  },
  {
   "cell_type": "code",
   "execution_count": 8,
   "metadata": {},
   "outputs": [
    {
     "name": "stdout",
     "output_type": "stream",
     "text": [
      "['10', '20', '30', '40', '50', '60']\n"
     ]
    }
   ],
   "source": [
    "s='10 20 30 40 50 60'\n",
    "x=s.split(' ')\n",
    "print(x)"
   ]
  },
  {
   "cell_type": "markdown",
   "metadata": {},
   "source": [
    "# PART(b):"
   ]
  },
  {
   "cell_type": "code",
   "execution_count": 9,
   "metadata": {},
   "outputs": [
    {
     "name": "stdout",
     "output_type": "stream",
     "text": [
      "['10 20 30 40 50 60']\n"
     ]
    }
   ],
   "source": [
    "s='10 20 30 40 50 60'\n",
    "x=s.split(',')\n",
    "print(x)"
   ]
  },
  {
   "cell_type": "markdown",
   "metadata": {},
   "source": [
    "# PART(c):"
   ]
  },
  {
   "cell_type": "code",
   "execution_count": 10,
   "metadata": {},
   "outputs": [
    {
     "name": "stdout",
     "output_type": "stream",
     "text": [
      "['10 20 30 40 50 60']\n"
     ]
    }
   ],
   "source": [
    "s='10 20 30 40 50 60'\n",
    "x=s.split('& ')\n",
    "print(x)"
   ]
  },
  {
   "cell_type": "markdown",
   "metadata": {},
   "source": [
    "# PART(d):"
   ]
  },
  {
   "cell_type": "code",
   "execution_count": 12,
   "metadata": {},
   "outputs": [
    {
     "name": "stdout",
     "output_type": "stream",
     "text": [
      "['10 20 30 40 50 60']\n"
     ]
    }
   ],
   "source": [
    "s='10 20 30 40 50 60'\n",
    "x=s.split('-')\n",
    "print(x)"
   ]
  },
  {
   "cell_type": "markdown",
   "metadata": {},
   "source": [
    "# PROBLEM 4.16:"
   ]
  },
  {
   "cell_type": "code",
   "execution_count": 13,
   "metadata": {},
   "outputs": [
    {
     "name": "stdout",
     "output_type": "stream",
     "text": [
      "Enter first word :  bass\n",
      "Enter second word :  salmon\n",
      "Enter third word :  whitefish\n",
      "True\n"
     ]
    }
   ],
   "source": [
    "def dictionary(a,b,c):\n",
    "    d={'a':'bass','b':'salmon','c':'whitefish'}\n",
    "    print('Enter first word : ',a)\n",
    "    print('Enter second word : ',b)\n",
    "    print('Enter third word : ',c)\n",
    "    if (a and b and c) in d.values():\n",
    "        print('True')\n",
    "    else:\n",
    "        print('False')\n",
    "dictionary('bass','salmon','whitefish')"
   ]
  },
  {
   "cell_type": "markdown",
   "metadata": {},
   "source": [
    "# PROBLEM 4.17:"
   ]
  },
  {
   "cell_type": "code",
   "execution_count": 14,
   "metadata": {},
   "outputs": [
    {
     "name": "stdout",
     "output_type": "stream",
     "text": [
      "The secret of this message is that it is secret\n",
      "47\n",
      "2\n",
      "The xxxxx of this message is that it is xxxxx\n"
     ]
    }
   ],
   "source": [
    "message='The secret of this message is that it is secret'\n",
    "length=len(message)\n",
    "count=message.count('secret')\n",
    "censored=message.replace('secret','xxxxx')\n",
    "print(message)\n",
    "print(length)\n",
    "print(count)\n",
    "print(censored)"
   ]
  },
  {
   "cell_type": "markdown",
   "metadata": {},
   "source": [
    "# PROBLEM 4.18:"
   ]
  },
  {
   "cell_type": "code",
   "execution_count": 15,
   "metadata": {},
   "outputs": [
    {
     "name": "stdout",
     "output_type": "stream",
     "text": [
      "It was the best of times, it was the worst of times      it was the age of wisdom,it was the age of foolishness      it was the epoch of belief,it was the epoch of incredulity       it was...\n"
     ]
    }
   ],
   "source": [
    "s='''It was the best of times, it was the worst of times;it was the age of wisdom,it was the age of foolishness;it was the epoch of belief,it was the epoch of incredulity; it was...'''\n",
    "x=s.replace(';','      ')\n",
    "print(x)"
   ]
  },
  {
   "cell_type": "markdown",
   "metadata": {},
   "source": [
    "# PROBLEM 4.19:"
   ]
  },
  {
   "cell_type": "markdown",
   "metadata": {},
   "source": [
    "# PART(a):"
   ]
  },
  {
   "cell_type": "code",
   "execution_count": 16,
   "metadata": {},
   "outputs": [
    {
     "name": "stdout",
     "output_type": "stream",
     "text": [
      "Sigel, Marlena Mae\n"
     ]
    }
   ],
   "source": [
    "first='Marlena'\n",
    "last='Sigel'\n",
    "middle='Mae'\n",
    "print('{}, {} {}'.format(last,first,middle))"
   ]
  },
  {
   "cell_type": "markdown",
   "metadata": {},
   "source": [
    "# PART (b):"
   ]
  },
  {
   "cell_type": "code",
   "execution_count": 17,
   "metadata": {},
   "outputs": [
    {
     "name": "stdout",
     "output_type": "stream",
     "text": [
      "Sigel, Marlena M.\n"
     ]
    }
   ],
   "source": [
    "first='Marlena'\n",
    "last='Sigel'\n",
    "middle='Mae'\n",
    "print('{}, {} {}.'.format(last,first,middle[0]))"
   ]
  },
  {
   "cell_type": "markdown",
   "metadata": {},
   "source": [
    "# PART (c):"
   ]
  },
  {
   "cell_type": "code",
   "execution_count": 19,
   "metadata": {},
   "outputs": [
    {
     "name": "stdout",
     "output_type": "stream",
     "text": [
      "Marlena, M Sigel.\n"
     ]
    }
   ],
   "source": [
    "first='Marlena'\n",
    "last='Sigel'\n",
    "middle='Mae'\n",
    "print('{}, {} {}.'.format(first,middle[0],last))"
   ]
  },
  {
   "cell_type": "markdown",
   "metadata": {},
   "source": [
    "# PART(d):"
   ]
  },
  {
   "cell_type": "code",
   "execution_count": 20,
   "metadata": {},
   "outputs": [
    {
     "name": "stdout",
     "output_type": "stream",
     "text": [
      "M. M. Sigel\n"
     ]
    }
   ],
   "source": [
    "first='Marlena'\n",
    "last='Sigel'\n",
    "middle='Mae'\n",
    "print('{}. {}. {}'.format(middle[0],middle[0],last))"
   ]
  },
  {
   "cell_type": "markdown",
   "metadata": {},
   "source": [
    "# PART(e):"
   ]
  },
  {
   "cell_type": "code",
   "execution_count": 21,
   "metadata": {},
   "outputs": [
    {
     "name": "stdout",
     "output_type": "stream",
     "text": [
      "Sigel, M.\n"
     ]
    }
   ],
   "source": [
    "first='Marlena'\n",
    "last='Sigel'\n",
    "middle='Mae'\n",
    "print('{}, {}.'.format(last,middle[0]))"
   ]
  },
  {
   "cell_type": "markdown",
   "metadata": {},
   "source": [
    "# PROBLEM 4.20:"
   ]
  },
  {
   "cell_type": "code",
   "execution_count": 22,
   "metadata": {},
   "outputs": [
    {
     "name": "stdout",
     "output_type": "stream",
     "text": [
      "From: tim@abc.com \n",
      " To: ton@xyz.org \n",
      " Subject: Hello!\n"
     ]
    }
   ],
   "source": [
    "sender='tim@abc.com'\n",
    "recipient='ton@xyz.org'\n",
    "subject='Hello!'\n",
    "print('From: {} \\n To: {} \\n Subject: {}'.format(sender,recipient,subject))"
   ]
  },
  {
   "cell_type": "markdown",
   "metadata": {},
   "source": [
    "# PROBLEM 4.21:"
   ]
  },
  {
   "cell_type": "markdown",
   "metadata": {},
   "source": [
    "# PART(a):"
   ]
  },
  {
   "cell_type": "code",
   "execution_count": 24,
   "metadata": {},
   "outputs": [
    {
     "name": "stdout",
     "output_type": "stream",
     "text": [
      "3.1\n",
      "2.7e+00\n"
     ]
    }
   ],
   "source": [
    "from math import pi\n",
    "e = 2.7\n",
    "print('{:1.1f}'.format(pi))\n",
    "print('{:1.1e}'.format(e))"
   ]
  },
  {
   "cell_type": "markdown",
   "metadata": {},
   "source": [
    "# PART(b):"
   ]
  },
  {
   "cell_type": "code",
   "execution_count": 25,
   "metadata": {},
   "outputs": [
    {
     "name": "stdout",
     "output_type": "stream",
     "text": [
      "3.14\n",
      "2.72e+00\n"
     ]
    }
   ],
   "source": [
    "from math import pi\n",
    "e = 2.72\n",
    "print('{:1.2f}'.format(pi))\n",
    "print('{:1.2e}'.format(e))"
   ]
  },
  {
   "cell_type": "markdown",
   "metadata": {},
   "source": [
    "# PART (c):"
   ]
  },
  {
   "cell_type": "code",
   "execution_count": 26,
   "metadata": {},
   "outputs": [
    {
     "name": "stdout",
     "output_type": "stream",
     "text": [
      "3.141593e+00\n",
      "2.720000e+00\n"
     ]
    }
   ],
   "source": [
    "from math import pi\n",
    "print('{:e}'.format(pi))\n",
    "print('{:e}'.format(e))"
   ]
  },
  {
   "cell_type": "markdown",
   "metadata": {},
   "source": [
    "# PART (d):"
   ]
  },
  {
   "cell_type": "code",
   "execution_count": 27,
   "metadata": {},
   "outputs": [
    {
     "name": "stdout",
     "output_type": "stream",
     "text": [
      "3.14159\n",
      "2.72000\n"
     ]
    }
   ],
   "source": [
    "from math import pi\n",
    "print('{:1.5f}'.format(pi))\n",
    "print('{:1.5f}'.format(e))"
   ]
  },
  {
   "cell_type": "markdown",
   "metadata": {},
   "source": [
    "# PROBLEM 4.22:"
   ]
  },
  {
   "cell_type": "code",
   "execution_count": 1,
   "metadata": {},
   "outputs": [],
   "source": [
    "def month(x):\n",
    "    x={1:'jan',2:'Feb',3:'Mar',4:'apr',5:'May',6:'jun',7:'july',8:'aug',9:'sep',10:'oct',11:'nov',12:'dec'}\n",
    "month(11)"
   ]
  },
  {
   "cell_type": "markdown",
   "metadata": {},
   "source": [
    "# PROBLEM 4.23:"
   ]
  },
  {
   "cell_type": "code",
   "execution_count": 4,
   "metadata": {},
   "outputs": [
    {
     "name": "stdout",
     "output_type": "stream",
     "text": [
      "Enter a sentence:  A sample sentence\n",
      "3.5\n"
     ]
    }
   ],
   "source": [
    "def average():\n",
    "    a=3\n",
    "    b=4\n",
    "    x=(a+b)/2\n",
    "    print('Enter a sentence: ',\"A sample sentence\")\n",
    "    print(x)\n",
    "average()"
   ]
  },
  {
   "cell_type": "markdown",
   "metadata": {},
   "source": [
    "# PROBLEM 4.24:"
   ]
  },
  {
   "cell_type": "code",
   "execution_count": 5,
   "metadata": {},
   "outputs": [
    {
     "name": "stdout",
     "output_type": "stream",
     "text": [
      "How do you spell winner? \n",
      " I know! I know! \n",
      " H U S K I E S ! \n",
      " And thats how you spell winner! \n",
      " Go Huskies!\n"
     ]
    }
   ],
   "source": [
    "def cheer(Huskies):\n",
    "    a='How do you spell winner'\n",
    "    b='I know! I know'\n",
    "    c='H U S K I E S'\n",
    "    d='And thats how you spell winner'\n",
    "    e='Go Huskies'\n",
    "    print('{}? \\n {}! \\n {} ! \\n {}! \\n {}!'.format(a,b,c,d,e))\n",
    "cheer('Huskies')\n"
   ]
  },
  {
   "cell_type": "markdown",
   "metadata": {},
   "source": [
    "# PROBLEM 4.25:"
   ]
  },
  {
   "cell_type": "code",
   "execution_count": 6,
   "metadata": {},
   "outputs": [
    {
     "name": "stdout",
     "output_type": "stream",
     "text": [
      "a, e, i, o, u appears 3 1 2 0 0\n"
     ]
    }
   ],
   "source": [
    "def vowelcount(x):\n",
    "    vow='AEIOUaeiou'\n",
    "    a = 0\n",
    "    e = 0\n",
    "    y = 0\n",
    "    o = 0\n",
    "    u = 0\n",
    "    for i in x:\n",
    "        if i in vow:\n",
    "            if i == 'a' or i == \"A\":\n",
    "                a += 1\n",
    "            if i == 'e' or i == \"E\":\n",
    "                e += 1\n",
    "            if i == 'i' or i == \"I\":\n",
    "                y += 1\n",
    "            if i == 'o' or i == \"O\":\n",
    "                o += 1\n",
    "            if i == 'u' or i == \"U\":\n",
    "                u += 1\n",
    "    print('a, e, i, o, u appears {} {} {} {} {}'.format(a,e,y,o,u))\n",
    "vowelcount(\"Syed Faizan Ali\")"
   ]
  }
 ],
 "metadata": {
  "kernelspec": {
   "display_name": "Python 3",
   "language": "python",
   "name": "python3"
  },
  "language_info": {
   "codemirror_mode": {
    "name": "ipython",
    "version": 3
   },
   "file_extension": ".py",
   "mimetype": "text/x-python",
   "name": "python",
   "nbconvert_exporter": "python",
   "pygments_lexer": "ipython3",
   "version": "3.7.3"
  }
 },
 "nbformat": 4,
 "nbformat_minor": 2
}
